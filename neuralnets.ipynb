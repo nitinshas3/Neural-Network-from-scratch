{
 "cells": [
  {
   "cell_type": "markdown",
   "id": "332c6796",
   "metadata": {},
   "source": [
    "Neural Network is a computer model which contains many neurons segregated as layers , there are mainly 3 layers , input output and hidden layers . A neuron is a small computational unit which is connected to other neurons and takes input from them , it has a bias , weights and an activation function . The input in the neuron comes in the form of summation of product of input values and weights and at last bias of the current neuron is added to it , later this value is passed through an activation function in which it decides the final value to output to next neuron or even the decision to whether output the value to the next neuron or not                                                                             \n",
    "neuron_output = Activationfunction((Input X Weight) + Bias)  "
   ]
  },
  {
   "cell_type": "code",
   "execution_count": 8,
   "id": "2df6a95e",
   "metadata": {},
   "outputs": [],
   "source": [
    "output_layer = []\n",
    "input_layer=[1,2,3,3.5]\n",
    "biases=[2,3,.5]\n",
    "weights=[[.5,.5,.4,.6],\n",
    "         [.43,.52,.543,.243],\n",
    "         [.43 ,.54, .75 ,.84]]\n"
   ]
  },
  {
   "cell_type": "code",
   "execution_count": 9,
   "id": "e7128bb1",
   "metadata": {},
   "outputs": [
    {
     "name": "stdout",
     "output_type": "stream",
     "text": [
      "[6.800000000000001, 6.9495000000000005, 7.199999999999999]\n"
     ]
    }
   ],
   "source": [
    "for neuron_weights , bias in zip(weights,biases):\n",
    "    neuron_output = 0\n",
    "    for inputs,weights in zip(input_layer,neuron_weights):\n",
    "        neuron_output+=inputs*weights\n",
    "    neuron_output+=bias\n",
    "    output_layer.append(neuron_output)  \n",
    "print(output_layer)      "
   ]
  },
  {
   "cell_type": "markdown",
   "id": "14e94881",
   "metadata": {},
   "source": [
    "Instead of using loops to multiply weights and inputs we can use dot product"
   ]
  },
  {
   "cell_type": "code",
   "execution_count": 16,
   "id": "847c06b3",
   "metadata": {},
   "outputs": [
    {
     "name": "stdout",
     "output_type": "stream",
     "text": [
      "[np.float64(6.800000000000001), np.float64(6.9495000000000005), np.float64(7.199999999999999)]\n"
     ]
    }
   ],
   "source": [
    "import numpy as np\n",
    "\n",
    "\n",
    "\n",
    "output_layer=[]\n",
    "for neuron_weight,bias in zip(weights,biases):\n",
    "    neuron_output = np.dot(neuron_weight,input_layer) + bias\n",
    "    output_layer.append(neuron_output)    \n",
    "print(output_layer)"
   ]
  },
  {
   "cell_type": "markdown",
   "id": "19f3e0f9",
   "metadata": {},
   "source": [
    "Batch size mean the total inputs used to train a neural network at once , for example a photo with 28x28  dimensions has 784 grids as input features , if we input the model with only one image than the batch size is one , the neural network does not train properly with it , so if we input 32 image at once that is batch size of 32 it trains the neural network on 32 images at once ,not iteratively but through matrix multiplicatoin and vectors all the 32 inputs are processed at once unlike traditional ml where the model is trained by going through inputs iteratively , also we cannot use all the images at once because that would cause overfitting"
   ]
  },
  {
   "cell_type": "markdown",
   "id": "32a2f000",
   "metadata": {},
   "source": [
    "So now the input changes from 1d to 2d with the number of rows being the batch size"
   ]
  },
  {
   "cell_type": "code",
   "execution_count": 17,
   "id": "f451fd76",
   "metadata": {},
   "outputs": [],
   "source": [
    "input_layer=[[1,2,3,3.5],\n",
    "             [3.2, 5.3,3.4,5.1],\n",
    "             [2.3,2.4,4.3,4.2],\n",
    "             [3.3,4.3,2.4,5.3]]"
   ]
  },
  {
   "cell_type": "markdown",
   "id": "5459bea1",
   "metadata": {},
   "source": [
    "In the weights 2d array each row represent the weights of individual neuron but during matrix multiplication to get the output values of neurons we need each columns to be the weights of individual neuron so use transpose"
   ]
  },
  {
   "cell_type": "code",
   "execution_count": 19,
   "id": "815b3fac",
   "metadata": {},
   "outputs": [
    {
     "name": "stdout",
     "output_type": "stream",
     "text": [
      "[[ 6.8     6.9495  7.2   ]\n",
      " [10.67   10.2175 11.572 ]\n",
      " [ 8.59    8.5925  9.538 ]\n",
      " [ 9.94    9.2461 10.493 ]]\n"
     ]
    }
   ],
   "source": [
    "output_layer=[]\n",
    "weights = np.transpose(weights)\n",
    "output_layer = np.dot(input_layer,weights)  + biases\n",
    "print(output_layer)"
   ]
  },
  {
   "cell_type": "markdown",
   "id": "5e1460ca",
   "metadata": {},
   "source": [
    "In this output above matrix each row represents the output neurons or the output layers of one batch"
   ]
  },
  {
   "cell_type": "markdown",
   "id": "765244f5",
   "metadata": {},
   "source": [
    "Now we add one more layer and the weights and biases keep on incresasing like shown below"
   ]
  },
  {
   "cell_type": "code",
   "execution_count": 23,
   "id": "ab9a462d",
   "metadata": {},
   "outputs": [],
   "source": [
    "input_layer1=[[1,2,3,3.5],\n",
    "             [3.2, 5.3,3.4,5.1],\n",
    "             [2.3,2.4,4.3,4.2],\n",
    "             [3.3,4.3,2.4,5.3]]\n",
    "\n",
    "biases1=[2,3,.5]\n",
    "weights1=[[.5,.5,.4,.6],\n",
    "         [.43,.52,.543,.243],\n",
    "         [.43 ,.54, .75 ,.84]]\n",
    "\n",
    "biases2=[2,3,3.8,1.5]\n",
    "weights2=[[.15,.5,.74,.86],\n",
    "         [.3,.52,.6543,.243],\n",
    "         [.243 ,.454, .735 ,.384]]\n",
    "\n"
   ]
  },
  {
   "cell_type": "markdown",
   "id": "9eda21e0",
   "metadata": {},
   "source": [
    "we try to keep the value ranges of input weights or any other parameters between -1 and 1 mostly because if the values are not in that range after passing through multiple layers,neurons the value may be very big and problem occurs\n"
   ]
  },
  {
   "cell_type": "code",
   "execution_count": 28,
   "id": "7c460fa0",
   "metadata": {},
   "outputs": [],
   "source": [
    "import numpy as np\n",
    "np.random.seed(0)\n",
    "\n",
    "X=[[1,2,3,3.5],\n",
    "  [3.2, 5.3,3.4,5.1],\n",
    "  [2.3,2.4,4.3,4.2],\n",
    "  [3.3,4.3,2.4,5.3]]\n",
    "\n",
    "class Layer_dense:\n",
    "    def __init__(self,n_inputs,n_neurons):\n",
    "        self.weights = np.random.randn(n_inputs,n_neurons)\n",
    "        self.biases = np.zeros((1,n_neurons))\n",
    "    def forward(self,inputs):\n",
    "        self.output = np.dot(inputs,self.weights) + self.biases"
   ]
  },
  {
   "cell_type": "markdown",
   "id": "55347800",
   "metadata": {},
   "source": [
    "Now we can keep on creating layer objects but the input of the next layer must be same as the output of the previous layer for obious reasons"
   ]
  },
  {
   "cell_type": "code",
   "execution_count": 29,
   "id": "e2d31ee8",
   "metadata": {},
   "outputs": [
    {
     "name": "stdout",
     "output_type": "stream",
     "text": [
      "[[ 1.40948745 11.89243132  2.24108282  3.4952175   1.0310096 ]\n",
      " [ 2.65688196 18.88030488  3.87098947  8.63413866  5.30560435]\n",
      " [ 3.73267301 15.72908197  4.29863757  6.74441603  3.60222958]\n",
      " [ 3.73325636 16.81477449  3.31815109  8.90238535  4.46707927]]\n"
     ]
    }
   ],
   "source": [
    "layer1=Layer_dense(4,5)\n",
    "layer2=Layer_dense(5,32)\n",
    "\n",
    "layer1.forward(X)\n",
    "print(layer1.output)"
   ]
  }
 ],
 "metadata": {
  "kernelspec": {
   "display_name": "nnfs",
   "language": "python",
   "name": "python3"
  },
  "language_info": {
   "codemirror_mode": {
    "name": "ipython",
    "version": 3
   },
   "file_extension": ".py",
   "mimetype": "text/x-python",
   "name": "python",
   "nbconvert_exporter": "python",
   "pygments_lexer": "ipython3",
   "version": "3.12.6"
  }
 },
 "nbformat": 4,
 "nbformat_minor": 5
}
